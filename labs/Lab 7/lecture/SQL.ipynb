{
 "cells": [
  {
   "cell_type": "markdown",
   "id": "851dbb4e-77e5-456e-903f-d8df3aea6707",
   "metadata": {},
   "source": [
    "## Lab 6: SQL\n",
    "\n",
    "\n",
    "### Starting Up SQL"
   ]
  },
  {
   "cell_type": "markdown",
   "id": "863c24e4-6422-47c8-a194-575b7b7488ae",
   "metadata": {},
   "source": [
    "Before we look at SQL syntax in detail, let's first get ourselves set up to run SQL queries in Jupyter."
   ]
  },
  {
   "cell_type": "markdown",
   "id": "d4c43259-2e11-4cb3-b2ed-04f2a4148d60",
   "metadata": {},
   "source": [
    "#### Approach #1: SQL Magic"
   ]
  },
  {
   "cell_type": "markdown",
   "id": "f699330c-aee9-4036-bc7d-0fe329410f7b",
   "metadata": {},
   "source": [
    "**1. Load the `sql` Module.** \n",
    "\n",
    "Load `%%sql` cell magic."
   ]
  },
  {
   "cell_type": "code",
   "execution_count": null,
   "id": "d809a9ab-fe04-4e65-99b9-bd1e0c6a0daf",
   "metadata": {},
   "outputs": [],
   "source": [
    "%load_ext sql"
   ]
  },
  {
   "cell_type": "markdown",
   "id": "b155e056-d307-4f69-8083-dee31155224e",
   "metadata": {},
   "source": [
    "**2. Connect to a database.**  \n",
    "\n",
    "Here, we connect to the SQLite database `basic_examples.db`."
   ]
  },
  {
   "cell_type": "code",
   "execution_count": null,
   "id": "480982be-9b63-44f4-8ca2-e3b29cd04877",
   "metadata": {},
   "outputs": [],
   "source": [
    "%%sql\n",
    "sqlite:///data/basic_examples.db"
   ]
  },
  {
   "cell_type": "markdown",
   "id": "1b9a53ac-58d6-439f-a33e-926e15144e97",
   "metadata": {},
   "source": [
    "<br/>\n",
    "\n",
    "**3. Run a simple SQL query.** \n",
    "\n",
    "Note the `%%sql` lets Jupyter parse the rest of the lines as a SQL command."
   ]
  },
  {
   "cell_type": "code",
   "execution_count": null,
   "id": "8c172229-1ae6-408a-80b6-ef7985fbe386",
   "metadata": {},
   "outputs": [],
   "source": [
    "%%sql\n",
    "SELECT * FROM Dragon;"
   ]
  },
  {
   "cell_type": "markdown",
   "id": "3e2fbecc-ccf6-4807-b810-7de159a111a1",
   "metadata": {},
   "source": [
    "**Simple query, this time on two different lines.**"
   ]
  },
  {
   "cell_type": "code",
   "execution_count": null,
   "id": "4cbb0a40-63e7-46aa-a65f-a212e1a7858a",
   "metadata": {},
   "outputs": [],
   "source": [
    "%%sql\n",
    "SELECT *\n",
    "FROM Dragon;"
   ]
  },
  {
   "cell_type": "markdown",
   "id": "4d7ac386-94a9-4d3e-9b65-122d5213314a",
   "metadata": {
    "tags": []
   },
   "source": [
    "#### Approach #2: `pd.read_sql`\n",
    "\n",
    "It turns out that `pandas` has a special-purpose function to parse SQL queries. We can pass in a SQL query as a string to return a `pandas` DataFrame. To achieve the same result as we did using cell magic above, we can do the following."
   ]
  },
  {
   "cell_type": "markdown",
   "id": "54b68e95-db18-4bc5-83aa-7631f53520f2",
   "metadata": {},
   "source": [
    "**1. Connect to a database**"
   ]
  },
  {
   "cell_type": "code",
   "execution_count": null,
   "id": "3a8939f0-cbfc-4891-b575-4730df1d8aa5",
   "metadata": {},
   "outputs": [],
   "source": [
    "import sqlalchemy \n",
    "import pandas as pd\n",
    "\n",
    "engine = sqlalchemy.create_engine(\"sqlite:///data/basic_examples.db\")\n",
    "connection = engine.connect()"
   ]
  },
  {
   "cell_type": "markdown",
   "id": "170c65bd-6971-45fe-a719-46d4f7b67ddd",
   "metadata": {},
   "source": [
    "**2. Run a simple SQL query**"
   ]
  },
  {
   "cell_type": "code",
   "execution_count": null,
   "id": "f3c78d9d-a192-476d-a1c8-3a6262f940db",
   "metadata": {},
   "outputs": [],
   "source": [
    "query = \"\"\"\n",
    "SELECT * \n",
    "FROM Dragon;\n",
    "\"\"\"\n",
    "\n",
    "pd.read_sql(query, engine)"
   ]
  },
  {
   "cell_type": "markdown",
   "id": "fc681cfe-8de9-4af0-87dd-46942ea9f1c8",
   "metadata": {},
   "source": [
    "## Tables and Schema\n",
    "\n",
    "A **database** contains a collection of SQL **tables**. Let's connect to our \"toy\" database `basic_examples.db` and explore the tables it stores."
   ]
  },
  {
   "cell_type": "code",
   "execution_count": null,
   "id": "2e6b0837",
   "metadata": {},
   "outputs": [],
   "source": [
    "%%sql\n",
    "sqlite:///data/basic_examples.db"
   ]
  },
  {
   "cell_type": "code",
   "execution_count": null,
   "id": "f32da741",
   "metadata": {
    "tags": []
   },
   "outputs": [],
   "source": [
    "%%sql\n",
    "SELECT * FROM sqlite_master WHERE type='table'"
   ]
  },
  {
   "cell_type": "markdown",
   "id": "74946c12-47af-42a2-9de5-b20b41eb0160",
   "metadata": {},
   "source": [
    "## Basic Queries\n",
    "\n",
    "Every SQL query *must* contain a `SELECT` and `FROM` clause.\n",
    "\n",
    "* `SELECT`: specify the column(s) to return in the output\n",
    "* `FROM`: specify the database table from which to extract data"
   ]
  },
  {
   "cell_type": "code",
   "execution_count": null,
   "id": "8b10641e",
   "metadata": {},
   "outputs": [],
   "source": [
    "%%sql\n",
    "SELECT * FROM Dragon;"
   ]
  },
  {
   "cell_type": "code",
   "execution_count": null,
   "id": "0db25a51",
   "metadata": {},
   "outputs": [],
   "source": [
    "%%sql\n",
    "SELECT cute, year FROM Dragon;"
   ]
  },
  {
   "cell_type": "markdown",
   "id": "9995de9b-c827-48b6-84bc-3b169cc5f549",
   "metadata": {},
   "source": [
    "**Aliasing** with `AS`"
   ]
  },
  {
   "cell_type": "code",
   "execution_count": null,
   "id": "75596c85-eb17-4d19-b065-984524dec1d8",
   "metadata": {},
   "outputs": [],
   "source": [
    "%%sql\n",
    "SELECT cute AS cuteness,\n",
    "       year AS birth\n",
    "FROM Dragon;"
   ]
  },
  {
   "cell_type": "markdown",
   "id": "8aba7a6c-2e1b-496e-944b-a752023dbb8a",
   "metadata": {},
   "source": [
    "**Uniqueness** with `DISTINCT`"
   ]
  },
  {
   "cell_type": "code",
   "execution_count": null,
   "id": "734189f7-de89-42ca-84e3-306cb564f34e",
   "metadata": {},
   "outputs": [],
   "source": [
    "%%sql\n",
    "SELECT DISTINCT year\n",
    "FROM Dragon;"
   ]
  },
  {
   "cell_type": "markdown",
   "id": "fca8c73c-ca03-4f65-9dfe-72e2368bd795",
   "metadata": {},
   "source": [
    "**Filtering** with `WHERE`"
   ]
  },
  {
   "cell_type": "code",
   "execution_count": null,
   "id": "2a28705b-7d0d-4252-b544-346194d2eea0",
   "metadata": {},
   "outputs": [],
   "source": [
    "%%sql\n",
    "SELECT name, year\n",
    "FROM Dragon\n",
    "WHERE cute > 0;"
   ]
  },
  {
   "cell_type": "code",
   "execution_count": null,
   "id": "b8a3e2ce-9be3-41fa-8fcb-02b63095d269",
   "metadata": {},
   "outputs": [],
   "source": [
    "%%sql\n",
    "SELECT name, cute, year\n",
    "FROM Dragon\n",
    "WHERE cute > 0 OR year > 2013;"
   ]
  },
  {
   "cell_type": "code",
   "execution_count": null,
   "id": "9cbbfe9a-7098-48c4-b015-c81b6ff5acb8",
   "metadata": {},
   "outputs": [],
   "source": [
    "%%sql\n",
    "SELECT name, year\n",
    "FROM Dragon \n",
    "WHERE name IN (\"puff\", \"hiccup\");"
   ]
  },
  {
   "cell_type": "code",
   "execution_count": null,
   "id": "03dac425-d2e2-4699-99b9-5ca9bbbc1ab0",
   "metadata": {},
   "outputs": [],
   "source": [
    "%%sql\n",
    "SELECT name, cute\n",
    "FROM Dragon\n",
    "WHERE cute IS NOT NULL;"
   ]
  },
  {
   "cell_type": "markdown",
   "id": "fc92df7a-14b4-4379-9c68-b1326c2a6b7d",
   "metadata": {},
   "source": [
    "**Ordering** data using `ORDER BY`"
   ]
  },
  {
   "cell_type": "code",
   "execution_count": null,
   "id": "e92fcdcb-7b45-486c-a1f7-8d6c7e25413c",
   "metadata": {},
   "outputs": [],
   "source": [
    "%%sql\n",
    "SELECT *\n",
    "FROM Dragon\n",
    "ORDER BY cute DESC;"
   ]
  },
  {
   "cell_type": "markdown",
   "id": "7972bc77-a058-477e-a945-828888c48147",
   "metadata": {},
   "source": [
    "**Restricting** output with `LIMIT` and `OFFSET`"
   ]
  },
  {
   "cell_type": "code",
   "execution_count": null,
   "id": "afc34d86-ab22-4b0b-aad2-959247fe2494",
   "metadata": {},
   "outputs": [],
   "source": [
    "%%sql\n",
    "SELECT *\n",
    "FROM Dragon\n",
    "LIMIT 2;"
   ]
  },
  {
   "cell_type": "code",
   "execution_count": null,
   "id": "80802839-9169-4768-b2b1-49368ded674b",
   "metadata": {},
   "outputs": [],
   "source": [
    "%%sql\n",
    "SELECT *\n",
    "FROM Dragon\n",
    "LIMIT 2\n",
    "OFFSET 1;"
   ]
  },
  {
   "cell_type": "markdown",
   "id": "62f0b944-eead-44e7-8c3c-35a2326cbe01",
   "metadata": {},
   "source": [
    "## Grouping Data with `GROUP BY`"
   ]
  },
  {
   "cell_type": "code",
   "execution_count": null,
   "id": "660cd78d-7639-4875-aa3e-7a840d0d37a4",
   "metadata": {},
   "outputs": [],
   "source": [
    "%%sql\n",
    "SELECT *\n",
    "FROM Dish;"
   ]
  },
  {
   "cell_type": "markdown",
   "id": "bb8b961a-57d6-4488-aa2a-e14e82e30f35",
   "metadata": {},
   "source": [
    "A small note: the fact that `type` is highlighted in green below is a consequence of Jupyter assuming that we are writing Python code (where `type` is a built-in keyword). `type` does *not* have a special meaning in SQL, so the color below does not indicate any special functionality. When we run the cell, Jupyter realizes it should recognize the code as SQL. "
   ]
  },
  {
   "cell_type": "code",
   "execution_count": null,
   "id": "b8fdab3a-0f93-4e39-b344-3a5068ae228b",
   "metadata": {},
   "outputs": [],
   "source": [
    "%%sql\n",
    "SELECT type\n",
    "FROM Dish;"
   ]
  },
  {
   "cell_type": "code",
   "execution_count": null,
   "id": "6369bcf3-c7ae-46e3-8b63-c6adfd6e9611",
   "metadata": {},
   "outputs": [],
   "source": [
    "%%sql\n",
    "SELECT type\n",
    "FROM Dish\n",
    "GROUP BY type;"
   ]
  },
  {
   "cell_type": "code",
   "execution_count": null,
   "id": "50792e27-c504-43a3-9e65-a1f2aa891828",
   "metadata": {},
   "outputs": [],
   "source": [
    "%%sql\n",
    "SELECT type, SUM(cost)\n",
    "FROM Dish\n",
    "GROUP BY type;"
   ]
  },
  {
   "cell_type": "code",
   "execution_count": null,
   "id": "cd7495a5-0008-49ba-abb7-4e9da953f5a6",
   "metadata": {},
   "outputs": [],
   "source": [
    "%%sql\n",
    "SELECT type, \n",
    "       SUM(cost), \n",
    "       MIN(cost),\n",
    "       MAX(name)\n",
    "FROM Dish\n",
    "GROUP BY type;"
   ]
  },
  {
   "cell_type": "code",
   "execution_count": null,
   "id": "342216ee-2ee0-477f-978c-f5e817ab9dd8",
   "metadata": {},
   "outputs": [],
   "source": [
    "%%sql\n",
    "SELECT year, COUNT(cute)\n",
    "FROM Dragon\n",
    "GROUP BY year;"
   ]
  },
  {
   "cell_type": "code",
   "execution_count": null,
   "id": "17fbbb43-1b95-4756-9446-ae8cfaa8e7ad",
   "metadata": {},
   "outputs": [],
   "source": [
    "%%sql\n",
    "SELECT year, COUNT(*)\n",
    "FROM Dragon\n",
    "GROUP BY year;"
   ]
  },
  {
   "cell_type": "markdown",
   "id": "ce5ba9fe-3bba-4be6-8101-54ce57a7d041",
   "metadata": {},
   "source": [
    "## Working with the `sql` results as Python variables\n",
    "\n",
    "By default, executing a query with a magic command produces output but doesn't save it into any Python variable:"
   ]
  },
  {
   "cell_type": "code",
   "execution_count": null,
   "id": "5af3fbfc-484c-4981-90a6-d793040c17a1",
   "metadata": {},
   "outputs": [],
   "source": [
    "%sql SELECT * FROM Dragon"
   ]
  },
  {
   "cell_type": "markdown",
   "id": "5861cf8d-828e-4dd8-a85f-caf4905ec95d",
   "metadata": {},
   "source": [
    "This can be inconvenient if you later want to do further processing of these data in Python."
   ]
  },
  {
   "cell_type": "markdown",
   "id": "72eadb81-d00f-4ae5-91e1-b401f7c00060",
   "metadata": {},
   "source": [
    "### Storing one-line `%sql` queries\n",
    "\n",
    "For simple one-line queries, you can use IPython's ability to store the result of a magic command like `%sql` as if it were any other Python statement, and save the output to a variable:"
   ]
  },
  {
   "cell_type": "code",
   "execution_count": null,
   "id": "ab49b102-b47b-4304-b131-169ddb5c8d9d",
   "metadata": {},
   "outputs": [],
   "source": [
    "dragon_table = %sql SELECT * FROM Dragon\n",
    "dragon_table"
   ]
  },
  {
   "cell_type": "markdown",
   "id": "01fadebc-7c50-494e-a364-48f5ab0afb82",
   "metadata": {},
   "source": [
    "As noted above, the result of the query is a Python variable of type `ResultSet`, more specifically:"
   ]
  },
  {
   "cell_type": "code",
   "execution_count": null,
   "id": "bb205d1e-3456-458b-ba1d-04166dd355f7",
   "metadata": {},
   "outputs": [],
   "source": [
    "type(dragon_table)"
   ]
  },
  {
   "cell_type": "markdown",
   "id": "e3db136e-3c3f-48fd-a75a-012c5d9b9609",
   "metadata": {},
   "source": [
    "You need to manually convert it to a Pandas DataFrame if you want to do pandas-things with its content:"
   ]
  },
  {
   "cell_type": "code",
   "execution_count": null,
   "id": "3c35735a-e30e-47a2-acfe-5486550a52bf",
   "metadata": {},
   "outputs": [],
   "source": [
    "dragon_df = dragon_table.DataFrame()\n",
    "dragon_df"
   ]
  },
  {
   "cell_type": "markdown",
   "id": "63e0c53b-4481-4727-b72d-2aa7f3b66184",
   "metadata": {},
   "source": [
    "You can configure `jupysql` to _automatically_ convert all outputs to Pandas DataFrames. This can be handy if you intend all your Python-side work to be done with Pandas, as it saves you from manually having to call `.DataFrame()` first on all outputs. On the other hand, you don't get access to the original SQL `ResultSet` object, which have a number of interesting properties and capabilities. You can learn more about those in the [jupysql documentation](https://jupysql.ploomber.io).\n",
    "\n",
    "For now, let's turn this on so you can see how this simplified, \"pandas all the way\" worfklow looks like:"
   ]
  },
  {
   "cell_type": "code",
   "execution_count": null,
   "id": "997ad531-c5e0-4b60-96b7-4d8c0d78890c",
   "metadata": {},
   "outputs": [],
   "source": [
    "%config SqlMagic.autopandas = True"
   ]
  },
  {
   "cell_type": "code",
   "execution_count": null,
   "id": "c4b32c92-97d1-4044-b8e3-7a0ccbded620",
   "metadata": {},
   "outputs": [],
   "source": [
    "dragon_df = %sql SELECT * FROM Dragon\n",
    "dragon_df"
   ]
  },
  {
   "cell_type": "code",
   "execution_count": null,
   "id": "18f834c2-8511-4c9a-8562-ddd6ed4a6ff4",
   "metadata": {},
   "outputs": [],
   "source": [
    "type(dragon_df)"
   ]
  },
  {
   "cell_type": "markdown",
   "id": "930ed96a-fdcd-492b-96b6-8cc596942fe7",
   "metadata": {},
   "source": [
    "### Storing multi-line `%%sql` queries"
   ]
  },
  {
   "cell_type": "markdown",
   "id": "3d2bd891-0ffe-43a7-913e-b6f2cea10c19",
   "metadata": {},
   "source": [
    "For a more complex query that won't fit in one line, such as for example:"
   ]
  },
  {
   "cell_type": "code",
   "execution_count": null,
   "id": "7f5f9312-e60b-4b56-a31a-54494b185271",
   "metadata": {},
   "outputs": [],
   "source": [
    "%%sql\n",
    "SELECT year, COUNT(*)\n",
    "FROM Dragon\n",
    "GROUP BY year;"
   ]
  },
  {
   "cell_type": "markdown",
   "id": "be733f9a-d903-46a7-96a3-ee427af6848f",
   "metadata": {},
   "source": [
    "You can use the `variable <<` syntax in jupysql to store its output (this will honor your `autopandas` state and store either a `sql.run.ResultState` or a Pandas `DataFrame`):"
   ]
  },
  {
   "cell_type": "code",
   "execution_count": null,
   "id": "a063ab8d-5e97-4bee-b2a1-d1120bd5a947",
   "metadata": {},
   "outputs": [],
   "source": [
    "%%sql dragon_years <<\n",
    "SELECT year, COUNT(*)\n",
    "FROM Dragon\n",
    "GROUP BY year;"
   ]
  },
  {
   "cell_type": "code",
   "execution_count": null,
   "id": "983c5be0-f248-4da4-b934-79491a312ffe",
   "metadata": {},
   "outputs": [],
   "source": [
    "dragon_years"
   ]
  },
  {
   "cell_type": "markdown",
   "id": "b597d45b",
   "metadata": {},
   "source": [
    "### Filtering Groups Using `HAVING`"
   ]
  },
  {
   "cell_type": "code",
   "execution_count": null,
   "id": "c6b9fe44",
   "metadata": {},
   "outputs": [],
   "source": [
    "%%sql\n",
    "SELECT type, COUNT(*)\n",
    "FROM Dish\n",
    "GROUP BY type\n",
    "HAVING MAX(cost) < 8;"
   ]
  },
  {
   "cell_type": "code",
   "execution_count": null,
   "id": "86f43c78",
   "metadata": {},
   "outputs": [],
   "source": [
    "%%sql\n",
    "SELECT type, MAX(name)\n",
    "FROM DishDietary\n",
    "WHERE notes == 'gf'\n",
    "GROUP BY type\n",
    "HAVING MAX(cost) <= 7;"
   ]
  },
  {
   "cell_type": "markdown",
   "id": "c784fb60",
   "metadata": {},
   "source": [
    "### EDA in SQL\n",
    "\n",
    "Our typical workflow when working with \"big data\" is:\n",
    "* Use SQL to query data from a database\n",
    "* Use Python (with `pandas`) to analyze this data in detail\n",
    "\n",
    "We can, however, still perform simple data cleaning and re-structuring using SQL directly. To do so, we'll consider the `Title` table from the IMDB dataset."
   ]
  },
  {
   "cell_type": "code",
   "execution_count": null,
   "id": "79f33f0c",
   "metadata": {},
   "outputs": [],
   "source": [
    "%%sql\n",
    "sqlite:///data/imdbmini.db"
   ]
  },
  {
   "cell_type": "code",
   "execution_count": null,
   "id": "f771a59f",
   "metadata": {},
   "outputs": [],
   "source": [
    "%%sql\n",
    "SELECT * FROM sqlite_master WHERE type='table'"
   ]
  },
  {
   "cell_type": "code",
   "execution_count": null,
   "id": "51fc1eba",
   "metadata": {},
   "outputs": [],
   "source": [
    "%%sql\n",
    "SELECT *\n",
    "FROM Title\n",
    "ORDER BY RANDOM()\n",
    "LIMIT 10;"
   ]
  },
  {
   "cell_type": "markdown",
   "id": "8d237273",
   "metadata": {},
   "source": [
    "#### Matching Text Using `LIKE`"
   ]
  },
  {
   "cell_type": "code",
   "execution_count": null,
   "id": "098e2035",
   "metadata": {},
   "outputs": [],
   "source": [
    "%%sql\n",
    "SELECT titleType, primaryTitle\n",
    "FROM Title\n",
    "WHERE primaryTitle LIKE \"%Star Wars%\""
   ]
  },
  {
   "cell_type": "code",
   "execution_count": null,
   "id": "602e9cec",
   "metadata": {},
   "outputs": [],
   "source": [
    "%%sql\n",
    "SELECT titleType, primaryTitle\n",
    "FROM Title\n",
    "WHERE primaryTitle LIKE \"Harry Potter and the Deathly Hallows: Part _\""
   ]
  },
  {
   "cell_type": "markdown",
   "id": "af016e86",
   "metadata": {},
   "source": [
    "#### Converting Data Types Using `CAST`"
   ]
  },
  {
   "cell_type": "code",
   "execution_count": null,
   "id": "b0a5b8e2",
   "metadata": {},
   "outputs": [],
   "source": [
    "%%sql\n",
    "SELECT primaryTitle, CAST(runtimeMinutes AS INT)\n",
    "FROM Title\n",
    "LIMIT 10;"
   ]
  },
  {
   "cell_type": "markdown",
   "id": "d884854c",
   "metadata": {},
   "source": [
    "### Applying Conditions With `CASE`\n",
    "\n",
    "Here, we return a random order so we can see the various movie ages (otherwise, the top few entries happen to all be old movies)."
   ]
  },
  {
   "cell_type": "code",
   "execution_count": null,
   "id": "17e4a618",
   "metadata": {},
   "outputs": [],
   "source": [
    "%%sql\n",
    "SELECT titleType, startYear,\n",
    "CASE WHEN startYear < 1950 THEN \"old\"\n",
    "     WHEN startYear < 2000 THEN \"mid-aged\"\n",
    "     ELSE \"new\"\n",
    "     END AS movie_age\n",
    "FROM Title\n",
    "ORDER BY RANDOM()\n",
    "LIMIT 10;"
   ]
  },
  {
   "cell_type": "markdown",
   "id": "51f77876",
   "metadata": {},
   "source": [
    "### Joining Tables\n",
    "\n",
    "We combine data from multiple tables by performing a **join**. We will explore joins using the cats database, which includes two tables: `s` and `t`."
   ]
  },
  {
   "cell_type": "code",
   "execution_count": null,
   "id": "b68fe887",
   "metadata": {},
   "outputs": [],
   "source": [
    "%%sql\n",
    "sqlite:///data/basic_examples_v2.db"
   ]
  },
  {
   "cell_type": "code",
   "execution_count": null,
   "id": "e66bbe92",
   "metadata": {},
   "outputs": [],
   "source": [
    "%%sql\n",
    "SELECT * FROM s;"
   ]
  },
  {
   "cell_type": "code",
   "execution_count": null,
   "id": "c429b9ca",
   "metadata": {},
   "outputs": [],
   "source": [
    "%%sql\n",
    "SELECT * FROM t;"
   ]
  },
  {
   "cell_type": "markdown",
   "id": "b7493e43",
   "metadata": {},
   "source": [
    "#### Inner Join"
   ]
  },
  {
   "cell_type": "code",
   "execution_count": null,
   "id": "5786460f",
   "metadata": {},
   "outputs": [],
   "source": [
    "%%sql\n",
    "SELECT s.id, name, breed\n",
    "FROM s INNER JOIN t ON s.id = t.id;"
   ]
  },
  {
   "cell_type": "markdown",
   "id": "4e2735e4",
   "metadata": {},
   "source": [
    "By default, `JOIN`ing without specifying a join type will default to an inner join."
   ]
  },
  {
   "cell_type": "code",
   "execution_count": null,
   "id": "a3a8c88a",
   "metadata": {},
   "outputs": [],
   "source": [
    "%%sql\n",
    "SELECT s.id, name, breed\n",
    "FROM s JOIN t ON s.id = t.id;"
   ]
  },
  {
   "cell_type": "markdown",
   "id": "58c5b565",
   "metadata": {},
   "source": [
    "### Cross Join"
   ]
  },
  {
   "cell_type": "code",
   "execution_count": null,
   "id": "e64c96b0",
   "metadata": {},
   "outputs": [],
   "source": [
    "%%sql\n",
    "SELECT *\n",
    "FROM s CROSS JOIN t;"
   ]
  },
  {
   "cell_type": "markdown",
   "id": "4e4cefe7",
   "metadata": {},
   "source": [
    "Equivalently, a cross join can be performed using the following syntax:"
   ]
  },
  {
   "cell_type": "code",
   "execution_count": null,
   "id": "06f7a695",
   "metadata": {},
   "outputs": [],
   "source": [
    "%%sql\n",
    "SELECT *\n",
    "FROM s, t;"
   ]
  },
  {
   "cell_type": "markdown",
   "id": "a66e815a",
   "metadata": {},
   "source": [
    "Conceptually, an inner join is equivalent to a cross join where irrelevant rows are removed."
   ]
  },
  {
   "cell_type": "code",
   "execution_count": null,
   "id": "d155bab2",
   "metadata": {},
   "outputs": [],
   "source": [
    "%%sql\n",
    "SELECT *\n",
    "FROM s CROSS JOIN t\n",
    "WHERE s.id = t.id;"
   ]
  },
  {
   "cell_type": "markdown",
   "id": "e8e71b44",
   "metadata": {},
   "source": [
    "#### Left Outer Join"
   ]
  },
  {
   "cell_type": "code",
   "execution_count": null,
   "id": "47805531",
   "metadata": {},
   "outputs": [],
   "source": [
    "%%sql\n",
    "SELECT *\n",
    "FROM s LEFT JOIN t ON s.id = t.id;"
   ]
  },
  {
   "cell_type": "markdown",
   "id": "748181a5",
   "metadata": {},
   "source": [
    "#### Right Outer Join"
   ]
  },
  {
   "cell_type": "code",
   "execution_count": null,
   "id": "30957eb0",
   "metadata": {},
   "outputs": [],
   "source": [
    "%%sql\n",
    "SELECT *\n",
    "FROM s RIGHT JOIN t ON s.id = t.id;"
   ]
  },
  {
   "cell_type": "markdown",
   "id": "c7ab1464",
   "metadata": {},
   "source": [
    "#### Full Outer Join"
   ]
  },
  {
   "cell_type": "code",
   "execution_count": null,
   "id": "992fa08d",
   "metadata": {},
   "outputs": [],
   "source": [
    "%%sql\n",
    "SELECT *\n",
    "FROM s FULL JOIN t ON s.id = t.id;"
   ]
  },
  {
   "cell_type": "markdown",
   "id": "6e2f2af9",
   "metadata": {},
   "source": [
    "#### Aliasing in Joins\n",
    "\n",
    "Let's return to the IMDB dataset. Now, we'll consider two tables: `Title` and `Rating`."
   ]
  },
  {
   "cell_type": "code",
   "execution_count": null,
   "id": "164bb105",
   "metadata": {},
   "outputs": [],
   "source": [
    "%%sql\n",
    "sqlite:///data/imdbmini.db"
   ]
  },
  {
   "cell_type": "markdown",
   "id": "c749f273",
   "metadata": {},
   "source": [
    "When working with tables that have long names, we often create an **alias** using the `AS` keyword (much like we did with columns in the previous lecture). This makes it easier to reference these tables when performing a join."
   ]
  },
  {
   "cell_type": "code",
   "execution_count": null,
   "id": "f6d54b00",
   "metadata": {},
   "outputs": [],
   "source": [
    "%%sql\n",
    "SELECT primaryTitle, averageRating\n",
    "FROM Title AS T INNER JOIN Rating AS R\n",
    "ON T.tconst = R.tconst;"
   ]
  },
  {
   "cell_type": "markdown",
   "id": "e1f1a406",
   "metadata": {},
   "source": [
    "The `AS` keyword is optional – omitting it will still create an alias. We typically include `AS` to make our queries more readable."
   ]
  },
  {
   "cell_type": "code",
   "execution_count": null,
   "id": "f214dcd3",
   "metadata": {},
   "outputs": [],
   "source": [
    "%%sql\n",
    "SELECT primaryTitle, averageRating\n",
    "FROM Title T INNER JOIN Rating R\n",
    "ON T.tconst = R.tconst;"
   ]
  },
  {
   "cell_type": "markdown",
   "id": "09aa679a",
   "metadata": {},
   "source": [
    "Referencing columns using the full or aliased table name is important to avoid ambiguity. Suppose the tables we are trying to join both include a column with the same name, like the `tconst` columns present in both the `Title` and `Rating` tables of the IMDB database. If we do not specify which table's column we wish to reference, SQL will not be able to process our query.\n",
    "\n",
    "In the cell below, it is unclear if we are referring to the `tconst` column from the `Title` table or the `tconst` column from the `Rating` table. SQL errors."
   ]
  },
  {
   "cell_type": "code",
   "execution_count": null,
   "id": "4aa9fb62",
   "metadata": {},
   "outputs": [],
   "source": [
    "%%sql\n",
    "SELECT primaryTitle, averageRating\n",
    "FROM Title AS T INNER JOIN Rating AS R\n",
    "ON tconst = tconst;"
   ]
  },
  {
   "cell_type": "markdown",
   "id": "c6f16ca1",
   "metadata": {},
   "source": [
    "Refer to columns in the format `table_alias.column_name` to avoid ambiguity."
   ]
  },
  {
   "cell_type": "code",
   "execution_count": null,
   "id": "9f17f0b3",
   "metadata": {},
   "outputs": [],
   "source": [
    "%%sql\n",
    "SELECT primaryTitle, averageRating\n",
    "FROM Title AS T INNER JOIN Rating AS R\n",
    "ON T.tconst = R.tconst;"
   ]
  },
  {
   "cell_type": "markdown",
   "id": "e3597f03",
   "metadata": {},
   "source": [
    "## Exercise (Submit for participation)\n",
    "\n",
    "Convert each Pandas expression to SQL assuming data represents a Pandas DataFrame containing 3 columns: name, rank, and year. Both the rank and year are stored as integers.\n"
   ]
  },
  {
   "cell_type": "code",
   "execution_count": null,
   "id": "197e0ae4",
   "metadata": {},
   "outputs": [],
   "source": [
    "data.1oc[data[\"rank\"] < 10, \"name\"].value_counts().reset_index() \n",
    "\n",
    "#Hint:Remember that value counts returns a sorted output!"
   ]
  },
  {
   "cell_type": "code",
   "execution_count": null,
   "id": "84c79c07",
   "metadata": {},
   "outputs": [],
   "source": [
    "data.merge(data,on= \"name\").sort_values(by=\"name\")"
   ]
  },
  {
   "cell_type": "code",
   "execution_count": null,
   "id": "ffea985a",
   "metadata": {},
   "outputs": [],
   "source": [
    "data.groupby([\"name\",\"year\"])\\\n",
    "    .filter(lambda sdf: len(sdf)>5)\\\n",
    "    .groupby([\"name\",\"year\"])[\"rank\"]\\\n",
    "    .min().reset_index().head(5)"
   ]
  }
 ],
 "metadata": {
  "kernelspec": {
   "display_name": "Python 3 (ipykernel)",
   "language": "python",
   "name": "python3"
  },
  "language_info": {
   "codemirror_mode": {
    "name": "ipython",
    "version": 3
   },
   "file_extension": ".py",
   "mimetype": "text/x-python",
   "name": "python",
   "nbconvert_exporter": "python",
   "pygments_lexer": "ipython3",
   "version": "3.8.13"
  }
 },
 "nbformat": 4,
 "nbformat_minor": 5
}
